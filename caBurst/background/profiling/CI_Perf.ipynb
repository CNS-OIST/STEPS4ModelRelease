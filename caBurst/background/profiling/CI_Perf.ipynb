{
 "cells": [
  {
   "cell_type": "code",
   "execution_count": null,
   "metadata": {
    "execution": {
     "iopub.execute_input": "2022-03-25T13:23:14.988656Z",
     "iopub.status.busy": "2022-03-25T13:23:14.988205Z",
     "iopub.status.idle": "2022-03-25T13:23:22.030907Z",
     "shell.execute_reply": "2022-03-25T13:23:22.031300Z"
    },
    "scrolled": true
   },
   "outputs": [],
   "source": [
    "%%capture\n",
    "%%bash\n",
    "\n",
    "# %%capture -> suppresses the output of the cell\n",
    "\n",
    "# Setup the enviroment\n",
    "\n",
    "module load unstable python-dev python\n",
    "\n",
    "python -m venv ./python-venv\n",
    "source ./python-venv/bin/activate\n",
    "\n",
    "pip install psutil"
   ]
  },
  {
   "cell_type": "code",
   "execution_count": null,
   "metadata": {
    "execution": {
     "iopub.execute_input": "2022-03-25T13:23:14.975259Z",
     "iopub.status.busy": "2022-03-25T13:23:14.974506Z",
     "iopub.status.idle": "2022-03-25T13:23:14.984270Z",
     "shell.execute_reply": "2022-03-25T13:23:14.984657Z"
    }
   },
   "outputs": [],
   "source": [
    "# change the width of the current notebook\n",
    "from IPython.core.display import display, HTML\n",
    "display(HTML(\"<style>.container { width:100% !important; }</style>\"))"
   ]
  },
  {
   "cell_type": "code",
   "execution_count": null,
   "metadata": {
    "execution": {
     "iopub.execute_input": "2022-03-25T13:23:22.036306Z",
     "iopub.status.busy": "2022-03-25T13:23:22.035853Z",
     "iopub.status.idle": "2022-03-25T13:23:22.754923Z",
     "shell.execute_reply": "2022-03-25T13:23:22.755386Z"
    }
   },
   "outputs": [],
   "source": [
    "%%capture\n",
    "\n",
    "# Setup the enviroment\n",
    "\n",
    "import os\n",
    "import os.path\n",
    "import numpy as np\n",
    "from matplotlib import pyplot as plt\n",
    "from matplotlib.pyplot import figure\n",
    "import matplotlib.ticker as ticker\n",
    "import subprocess\n",
    "\n",
    "plt.rcParams['font.size'] = '16'\n",
    "\n",
    "gs = globals()"
   ]
  },
  {
   "cell_type": "code",
   "execution_count": null,
   "metadata": {
    "execution": {
     "iopub.execute_input": "2022-03-25T13:23:22.761063Z",
     "iopub.status.busy": "2022-03-25T13:23:22.757920Z",
     "iopub.status.idle": "2022-03-25T13:23:58.941079Z",
     "shell.execute_reply": "2022-03-25T13:23:58.941465Z"
    },
    "scrolled": true
   },
   "outputs": [],
   "source": [
    "%%capture\n",
    "\n",
    "# Submit jobs for the performance monitoring\n",
    "\n",
    "# You can always call env and check the available environment variables\n",
    "\n",
    "# CI has already allocated a job for the runner.\n",
    "# Therefore we take all the relevant info from the already initialized env vars.\n",
    "ACCOUNT_=!sacct --format=account -j $SLURM_JOBID | tail -n1 | tr -d ' '\n",
    "ACCOUNT_ = ACCOUNT_[0]\n",
    "\n",
    "SJP_ = !echo $SLURM_JOB_PARTITION\n",
    "SJP_ = SJP_[0]\n",
    "\n",
    "# submitted job ids\n",
    "JOBS_ = []\n",
    "\n",
    "# *****************************************************************************\n",
    "# Strong Scaling\n",
    "# *****************************************************************************\n",
    "# --constraint=clx, i.e., Cascade Lake nodes (Intel codename clx)\n",
    "# --cpus-per-task=2 -> no multithreading, i.e., one process/task every physical core\n",
    "# --exclusive, i.e., exclusive use of the node\n",
    "# --mem=0, i.e., use the whole memory of the node\n",
    "common_strong_scaling_params=\"--account={} --partition={} --constraint=clx \\\n",
    "    --cpus-per-task=2 --exclusive --mem=0 --output=%x.out strong_scaling.batch\".format(ACCOUNT_, SJP_)\n",
    "\n",
    "'''\n",
    "_sjob=!sbatch --time=0-08:00:00 --job-name=strong_scaling_32   --nodes=1   --ntasks-per-node=32 $common_strong_scaling_params | tail -n 1 | grep -o \"job.*\" | cut -c 5-\n",
    "JOBS_.append(_sjob[-1])\n",
    "\n",
    "_sjob=!sbatch --time=0-04:00:00 --job-name=strong_scaling_64   --nodes=2   --ntasks-per-node=32 $common_strong_scaling_params | tail -n 1 | grep -o \"job.*\" | cut -c 5-\n",
    "JOBS_.append(_sjob[-1])\n",
    "\n",
    "_sjob=!sbatch --time=0-02:00:00 --job-name=strong_scaling_128  --nodes=4   --ntasks-per-node=32 $common_strong_scaling_params | tail -n 1 | grep -o \"job.*\" | cut -c 5-\n",
    "JOBS_.append(_sjob[-1])\n",
    "\n",
    "_sjob=!sbatch --time=0-01:00:00 --job-name=strong_scaling_256  --nodes=8   --ntasks-per-node=32 $common_strong_scaling_params | tail -n 1 | grep -o \"job.*\" | cut -c 5-\n",
    "JOBS_.append(_sjob[-1])\n",
    "'''\n",
    "\n",
    "_sjob=!sbatch --time=0-00:05:00 --job-name=TEST1  --nodes=1  --ntasks-per-node=32 $common_strong_scaling_params | tail -n 1 | grep -o \"job.*\" | cut -c 5-\n",
    "JOBS_.append(_sjob[-1])\n",
    "        \n",
    "'''\n",
    "_sjob=!sbatch --time=0-00:15:00 --job-name=strong_scaling_1024 --nodes=32  --ntasks-per-node=32 $common_strong_scaling_params | tail -n 1 | grep -o \"job.*\" | cut -c 5-\n",
    "JOBS_.append(_sjob[-1])\n",
    "        \n",
    "_sjob=!sbatch --time=0-00:10:00 --job-name=strong_scaling_2048 --nodes=64  --ntasks-per-node=32 $common_strong_scaling_params | tail -n 1 | grep -o \"job.*\" | cut -c 5-\n",
    "JOBS_.append(_sjob[-1])\n",
    "\n",
    "_sjob=!sbatch --time=0-00:10:00 --job-name=strong_scaling_4096 --nodes=128 --ntasks-per-node=32 $common_strong_scaling_params | tail -n 1 | grep -o \"job.*\" | cut -c 5-\n",
    "JOBS_.append(_sjob[-1])\n",
    "        \n",
    "_sjob=!sbatch --time=0-00:10:00 --job-name=strong_scaling_8192 --nodes=256 --ntasks-per-node=32 $common_strong_scaling_params | tail -n 1 | grep -o \"job.*\" | cut -c 5-\n",
    "JOBS_.append(_sjob[-1])\n",
    "'''\n",
    "        \n",
    "# *****************************************************************************\n",
    "# Caliper\n",
    "# *****************************************************************************\n",
    "common_caliper_params=\"--account={} --partition={} --constraint=clx \\\n",
    "    --cpus-per-task=2 --exclusive --mem=0 --output=%x.out caliper.batch\".format(ACCOUNT_, SJP_)\n",
    "\n",
    "'''\n",
    "_sjob=!sbatch --time=0-04:00:00 --job-name=strong_scaling_32   --nodes=1   --ntasks-per-node=32 $common_caliper_params | tail -n 1 | grep -o \"job.*\" | cut -c 5-\n",
    "JOBS_.append(_sjob[-1])\n",
    "\n",
    "_sjob=!sbatch --time=0-02:00:00 --job-name=strong_scaling_64   --nodes=2   --ntasks-per-node=32 $common_caliper_params | tail -n 1 | grep -o \"job.*\" | cut -c 5-\n",
    "JOBS_.append(_sjob[-1])\n",
    "\n",
    "_sjob=!sbatch --time=0-01:00:00 --job-name=strong_scaling_128  --nodes=4   --ntasks-per-node=32 $common_caliper_params | tail -n 1 | grep -o \"job.*\" | cut -c 5-\n",
    "JOBS_.append(_sjob[-1])\n",
    "'''\n",
    "\n",
    "_sjob=!sbatch --time=0-00:05:00 --job-name=TEST2  --nodes=1   --ntasks-per-node=32 $common_caliper_params | tail -n 1 | grep -o \"job.*\" | cut -c 5-\n",
    "JOBS_.append(_sjob[-1])\n",
    "\n",
    "'''\n",
    "_sjob=!sbatch --time=0-00:15:00 --job-name=strong_scaling_512  --nodes=16  --ntasks-per-node=32 $common_caliper_params | tail -n 1 | grep -o \"job.*\" | cut -c 5-\n",
    "JOBS_.append(_sjob[-1])\n",
    "        \n",
    "_sjob=!sbatch --time=0-00:10:00 --job-name=strong_scaling_1024 --nodes=32  --ntasks-per-node=32 $common_caliper_params | tail -n 1 | grep -o \"job.*\" | cut -c 5-\n",
    "JOBS_.append(_sjob[-1])\n",
    "\n",
    "_sjob=!sbatch --time=0-00:10:00 --job-name=strong_scaling_2048 --nodes=64  --ntasks-per-node=32 $common_caliper_params | tail -n 1 | grep -o \"job.*\" | cut -c 5-\n",
    "JOBS_.append(_sjob[-1])\n",
    "        \n",
    "_sjob=!sbatch --time=0-00:10:00 --job-name=strong_scaling_4096 --nodes=128 --ntasks-per-node=32 $common_caliper_params | tail -n 1 | grep -o \"job.*\" | cut -c 5-\n",
    "JOBS_.append(_sjob[-1])\n",
    "        \n",
    "_sjob=!sbatch --time=0-00:10:00 --job-name=strong_scaling_8192 --nodes=256 --ntasks-per-node=32 $common_caliper_params | tail -n 1 | grep -o \"job.*\" | cut -c 5-\n",
    "JOBS_.append(_sjob[-1])\n",
    "'''"
   ]
  },
  {
   "cell_type": "code",
   "execution_count": null,
   "metadata": {},
   "outputs": [],
   "source": [
    "%%capture\n",
    "import time\n",
    "\n",
    "# Wait until all jobs are finished\n",
    "\n",
    "print(\"Waiting for all the jobs to finish ...\")\n",
    "\n",
    "user_ = !echo $SLURM_JOB_USER\n",
    "print(\"user_ : \", user_[0])\n",
    "\n",
    "perf_jobs = 1 # just an initialization\n",
    "squeue = !squeue -u $SLURM_JOB_USER\n",
    "while (perf_jobs != 0):\n",
    "    time.sleep(1 * 60) # wait for 1 minute and check again if the jobs are finished!\n",
    "    squeue = !squeue -u $SLURM_JOB_USER\n",
    "    perf_jobs = 0\n",
    "    for i,row in enumerate(squeue):\n",
    "        row_ = row.split(\" \")\n",
    "        row_ = [el for el in row_ if el !=\"\"]\n",
    "        if i == 0:\n",
    "            for j,name in enumerate(row_):\n",
    "                if name == 'JOBID':\n",
    "                    break\n",
    "            continue\n",
    "        if row_[j] in JOBS_:\n",
    "            perf_jobs += 1\n",
    "\n",
    "print(\"All the submitted jobs have finished.\")\n",
    "print(\"Next step: Graph Generation.\")"
   ]
  }
 ],
 "metadata": {
  "interpreter": {
   "hash": "a85756dc764461b75f70dc3503095d2776e18650408498cd818a68d8ffcd60c7"
  },
  "kernelspec": {
   "display_name": "Python 3 (ipykernel)",
   "language": "python",
   "name": "python3"
  },
  "language_info": {
   "codemirror_mode": {
    "name": "ipython",
    "version": 3
   },
   "file_extension": ".py",
   "mimetype": "text/x-python",
   "name": "python",
   "nbconvert_exporter": "python",
   "pygments_lexer": "ipython3",
   "version": "3.9.7"
  }
 },
 "nbformat": 4,
 "nbformat_minor": 2
}
