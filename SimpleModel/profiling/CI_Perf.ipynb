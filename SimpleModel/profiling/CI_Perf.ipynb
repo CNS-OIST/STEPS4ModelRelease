{
 "cells": [
  {
   "cell_type": "code",
   "execution_count": null,
   "metadata": {
    "execution": {
     "iopub.execute_input": "2022-03-25T13:23:14.988656Z",
     "iopub.status.busy": "2022-03-25T13:23:14.988205Z",
     "iopub.status.idle": "2022-03-25T13:23:22.030907Z",
     "shell.execute_reply": "2022-03-25T13:23:22.031300Z"
    },
    "scrolled": true
   },
   "outputs": [],
   "source": [
    "%%capture\n",
    "%%bash\n",
    "\n",
    "# %%capture -> suppresses the output of the cell\n",
    "\n",
    "# Setup the enviroment\n",
    "\n",
    "module load unstable python-dev python"
   ]
  },
  {
   "cell_type": "code",
   "execution_count": null,
   "metadata": {
    "execution": {
     "iopub.execute_input": "2022-03-25T13:23:22.036306Z",
     "iopub.status.busy": "2022-03-25T13:23:22.035853Z",
     "iopub.status.idle": "2022-03-25T13:23:22.754923Z",
     "shell.execute_reply": "2022-03-25T13:23:22.755386Z"
    }
   },
   "outputs": [],
   "source": [
    "%%capture\n",
    "\n",
    "# Setup the enviroment\n",
    "\n",
    "import os\n",
    "import os.path\n",
    "import numpy as np\n",
    "from matplotlib import pyplot as plt\n",
    "from matplotlib.pyplot import figure\n",
    "import matplotlib.ticker as ticker\n",
    "import subprocess\n",
    "\n",
    "plt.rcParams['font.size'] = '16'\n",
    "\n",
    "gs = globals()"
   ]
  },
  {
   "cell_type": "code",
   "execution_count": null,
   "metadata": {
    "execution": {
     "iopub.execute_input": "2022-03-25T13:23:22.761063Z",
     "iopub.status.busy": "2022-03-25T13:23:22.757920Z",
     "iopub.status.idle": "2022-03-25T13:23:58.941079Z",
     "shell.execute_reply": "2022-03-25T13:23:58.941465Z"
    },
    "scrolled": true
   },
   "outputs": [],
   "source": [
    "# Submit jobs for the performance monitoring\n",
    "\n",
    "# You can always call env and check the available environment variables\n",
    "\n",
    "# CI has already allocated a job for the runner.\n",
    "# Therefore we take all the relevant info from the already initialized env vars.\n",
    "ACCOUNT_=!sacct --format=account -j $SLURM_JOBID | tail -n1 | tr -d ' '\n",
    "ACCOUNT_ = ACCOUNT_[0]\n",
    "\n",
    "# nc stands for number of cores (ENV VAR)\n",
    "# spawned jobs use this amount of cores (evenly distributed across used nodes)\n",
    "nc = os.environ.get('nc')\n",
    "nc = nc.split(':')\n",
    "nc = [int(c) for c in nc]\n",
    "\n",
    "# submitted job ids\n",
    "JOBS_ = []\n",
    "\n",
    "print(\"-x-x-x-x-x-\")\n",
    "print(nc)\n",
    "print(\"-x-x-x-x-x-\")"
   ]
  }
 ],
 "metadata": {
  "interpreter": {
   "hash": "a85756dc764461b75f70dc3503095d2776e18650408498cd818a68d8ffcd60c7"
  },
  "kernelspec": {
   "display_name": "Python 3 (ipykernel)",
   "language": "python",
   "name": "python3"
  },
  "language_info": {
   "codemirror_mode": {
    "name": "ipython",
    "version": 3
   },
   "file_extension": ".py",
   "mimetype": "text/x-python",
   "name": "python",
   "nbconvert_exporter": "python",
   "pygments_lexer": "ipython3",
   "version": "3.9.7"
  }
 },
 "nbformat": 4,
 "nbformat_minor": 2
}
