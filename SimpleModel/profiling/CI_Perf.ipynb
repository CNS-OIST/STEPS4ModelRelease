{
 "cells": [
  {
   "cell_type": "code",
   "execution_count": null,
   "metadata": {
    "execution": {
     "iopub.execute_input": "2022-03-25T13:23:22.761063Z",
     "iopub.status.busy": "2022-03-25T13:23:22.757920Z",
     "iopub.status.idle": "2022-03-25T13:23:58.941079Z",
     "shell.execute_reply": "2022-03-25T13:23:58.941465Z"
    },
    "scrolled": true
   },
   "outputs": [],
   "source": [
    "%%bash\n",
    "\n",
    "# CI has already allocated a job for the runner.\n",
    "# Therefore we take all the relevant info from the already initialized env vars.\n",
    "ACCOUNT_=`sacct --format=account -j $SLURM_JOBID | tail -n1`\n",
    "\n",
    "echo \"ACCOUNT_\" ${ACCOUNT_//[[:blank:]]/}\n",
    "echo \"SLURM_JOB_USER\" $SLURM_JOB_USER\n",
    "echo \"SLURM_PARTITION\" $SLURM_PARTITION\n",
    "\n",
    "# *****************************************************************************\n",
    "# Strong Scaling\n",
    "# *****************************************************************************\n",
    "# --constraint=clx, i.e., Cascade Lake nodes (Intel codename clx)\n",
    "# --cpus-per-task=2 -> no multithreading, i.e., one process/task every physical core\n",
    "# --exclusive, i.e., exclusive use of the node\n",
    "# --mem=0, i.e., use the whole memory of the node\n",
    "common_strong_scaling_params=\"--account=${ACCOUNT_//[[:blank:]]/} --partition=$SLURM_PARTITION --constraint=clx \\\n",
    "                              --cpus-per-task=2 --exclusive --mem=0 --output=%x.out strong_scaling.batch\""
   ]
  }
 ],
 "metadata": {
  "interpreter": {
   "hash": "a85756dc764461b75f70dc3503095d2776e18650408498cd818a68d8ffcd60c7"
  },
  "kernelspec": {
   "display_name": "Python 3 (ipykernel)",
   "language": "python",
   "name": "python3"
  },
  "language_info": {
   "codemirror_mode": {
    "name": "ipython",
    "version": 3
   },
   "file_extension": ".py",
   "mimetype": "text/x-python",
   "name": "python",
   "nbconvert_exporter": "python",
   "pygments_lexer": "ipython3",
   "version": "3.9.7"
  }
 },
 "nbformat": 4,
 "nbformat_minor": 2
}
