{
 "cells": [
  {
   "cell_type": "code",
   "execution_count": null,
   "metadata": {
    "execution": {
     "iopub.execute_input": "2022-03-25T13:23:14.988656Z",
     "iopub.status.busy": "2022-03-25T13:23:14.988205Z",
     "iopub.status.idle": "2022-03-25T13:23:22.030907Z",
     "shell.execute_reply": "2022-03-25T13:23:22.031300Z"
    },
    "scrolled": true
   },
   "outputs": [],
   "source": [
    "%%capture\n",
    "%%bash\n",
    "\n",
    "# Setup the enviroment\n",
    "\n",
    "module load unstable python-dev python\n",
    "\n",
    "python -m venv ./python-venv\n",
    "source ./python-venv/bin/activate\n",
    "\n",
    "pip install psutil"
   ]
  },
  {
   "cell_type": "code",
   "execution_count": null,
   "metadata": {
    "execution": {
     "iopub.execute_input": "2022-03-25T13:23:14.975259Z",
     "iopub.status.busy": "2022-03-25T13:23:14.974506Z",
     "iopub.status.idle": "2022-03-25T13:23:14.984270Z",
     "shell.execute_reply": "2022-03-25T13:23:14.984657Z"
    }
   },
   "outputs": [],
   "source": [
    "%%capture\n",
    "# %%capture -> suppresses the output of the cell\n",
    "\n",
    "# change the width of the current notebook\n",
    "from IPython.core.display import display, HTML\n",
    "display(HTML(\"<style>.container { width:100% !important; }</style>\"))"
   ]
  },
  {
   "cell_type": "code",
   "execution_count": null,
   "metadata": {
    "execution": {
     "iopub.execute_input": "2022-03-25T13:23:22.036306Z",
     "iopub.status.busy": "2022-03-25T13:23:22.035853Z",
     "iopub.status.idle": "2022-03-25T13:23:22.754923Z",
     "shell.execute_reply": "2022-03-25T13:23:22.755386Z"
    }
   },
   "outputs": [],
   "source": [
    "%%capture\n",
    "\n",
    "# Setup the enviroment\n",
    "\n",
    "import os\n",
    "import os.path\n",
    "import numpy as np\n",
    "from matplotlib import pyplot as plt\n",
    "from matplotlib.pyplot import figure\n",
    "import matplotlib.ticker as ticker\n",
    "import subprocess\n",
    "\n",
    "plt.rcParams['font.size'] = '16'\n",
    "\n",
    "gs = globals()"
   ]
  },
  {
   "cell_type": "code",
   "execution_count": null,
   "metadata": {
    "execution": {
     "iopub.execute_input": "2022-03-25T13:23:22.761063Z",
     "iopub.status.busy": "2022-03-25T13:23:22.757920Z",
     "iopub.status.idle": "2022-03-25T13:23:58.941079Z",
     "shell.execute_reply": "2022-03-25T13:23:58.941465Z"
    },
    "scrolled": true
   },
   "outputs": [],
   "source": [
    "%%capture\n",
    "\n",
    "# Submit jobs for the performance monitoring\n",
    "\n",
    "# You can always call env and check the available environment variables\n",
    "\n",
    "# CI has already allocated a job for the runner.\n",
    "# Therefore we take all the relevant info from the already initialized env vars.\n",
    "ACCOUNT_=!sacct --format=account -j $SLURM_JOBID | tail -n1 | tr -d ' '\n",
    "\n",
    "# *****************************************************************************\n",
    "# Strong Scaling\n",
    "# *****************************************************************************\n",
    "# --constraint=clx, i.e., Cascade Lake nodes (Intel codename clx)\n",
    "# --cpus-per-task=2 -> no multithreading, i.e., one process/task every physical core\n",
    "# --exclusive, i.e., exclusive use of the node\n",
    "# --mem=0, i.e., use the whole memory of the node\n",
    "common_strong_scaling_params=\"--account=${ACCOUNT_//[[:blank:]]/} --partition=$SLURM_JOB_PARTITION --constraint=clx \\\n",
    "                              --cpus-per-task=2 --exclusive --mem=0 --output=%x.out strong_scaling.batch\"\n",
    "\n",
    "job1=!sbatch --time=0-00:30:00 --job-name=sm_strong_scaling_2    --nodes=1  --ntasks-per-node=2  $common_strong_scaling_params | tail -n 1 | grep -o \"job.*\" | cut -c 5-\n",
    "\n",
    "# *****************************************************************************\n",
    "# Caliper\n",
    "# *****************************************************************************\n",
    "common_caliper_params=\"--account=${ACCOUNT_//[[:blank:]]/} --partition=$SLURM_JOB_PARTITION --constraint=clx \\\n",
    "                       --cpus-per-task=2 --exclusive --mem=0 --output=%x.out caliper.batch\"\n",
    "\n",
    "job1c=!sbatch --time=0-00:15:00 --job-name=sm_caliper_2    --nodes=1  --ntasks-per-node=2  $common_caliper_params | tail -n 1 | grep -o \"job.*\" | cut -c 5-\n"
   ]
  },
  {
   "cell_type": "code",
   "execution_count": null,
   "metadata": {},
   "outputs": [],
   "source": [
    "print(job1, job1c)"
   ]
  }
 ],
 "metadata": {
  "interpreter": {
   "hash": "a85756dc764461b75f70dc3503095d2776e18650408498cd818a68d8ffcd60c7"
  },
  "kernelspec": {
   "display_name": "Python 3 (ipykernel)",
   "language": "python",
   "name": "python3"
  },
  "language_info": {
   "codemirror_mode": {
    "name": "ipython",
    "version": 3
   },
   "file_extension": ".py",
   "mimetype": "text/x-python",
   "name": "python",
   "nbconvert_exporter": "python",
   "pygments_lexer": "ipython3",
   "version": "3.9.7"
  }
 },
 "nbformat": 4,
 "nbformat_minor": 2
}
