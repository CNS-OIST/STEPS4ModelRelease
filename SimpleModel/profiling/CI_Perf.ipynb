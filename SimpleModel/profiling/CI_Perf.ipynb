{
 "cells": [
  {
   "cell_type": "code",
   "execution_count": null,
   "metadata": {},
   "outputs": [],
   "source": [
    "%%bash\n",
    "\n",
    "# CI has already allocated a job for the runner.\n",
    "# Therefore we take all the relevant info from the already initialized env vars.\n",
    "ACCOUNT_=`sacct --format=account -j $SLURM_JOBID | tail -n1 | sed -e \"s/^[ \\t]*//\"`\n",
    "echo \"ACCOUNT_\" $ACCOUNT_\n",
    "echo \"SLURM_JOB_USER\" $SLURM_JOB_USER\n",
    "\n",
    "common_strong_scaling_params=\"--account=$ACCOUNT_ --partition=prod --constraint=clx \\\n",
    "                              --cpus-per-task=2 --exclusive --mem=0 --output=%x.out strong_scaling.batch\"\n",
    "sbatch --time=0-00:01:00 --job-name=strong_scaling_32   --nodes=1  --ntasks-per-node=32 $common_strong_scaling_params"
   ]
  },
  {
   "cell_type": "code",
   "execution_count": null,
   "metadata": {},
   "outputs": [],
   "source": [
    "user_ = !echo $SLURM_JOB_USER\n",
    "print(\"user_ : \", user_[0])"
   ]
  }
 ],
 "metadata": {
  "interpreter": {
   "hash": "a85756dc764461b75f70dc3503095d2776e18650408498cd818a68d8ffcd60c7"
  },
  "kernelspec": {
   "display_name": "Python 3 (ipykernel)",
   "language": "python",
   "name": "python3"
  },
  "language_info": {
   "codemirror_mode": {
    "name": "ipython",
    "version": 3
   },
   "file_extension": ".py",
   "mimetype": "text/x-python",
   "name": "python",
   "nbconvert_exporter": "python",
   "pygments_lexer": "ipython3",
   "version": "3.9.7"
  }
 },
 "nbformat": 4,
 "nbformat_minor": 2
}
