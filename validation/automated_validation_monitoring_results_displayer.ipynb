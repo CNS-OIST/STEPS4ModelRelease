{
 "cells": [
  {
   "cell_type": "code",
   "execution_count": 1,
   "id": "7769be5b",
   "metadata": {},
   "outputs": [],
   "source": [
    "from IPython.display import Image, Markdown, display\n",
    "import os"
   ]
  },
  {
   "cell_type": "code",
   "execution_count": 10,
   "id": "08bd61ab",
   "metadata": {},
   "outputs": [
    {
     "name": "stdout",
     "output_type": "stream",
     "text": [
      "python: can't open file '/gpfs/bbp.cscs.ch/ssd/gitlab_map_jobs/bbpcihpcproj12/J221382/hpc/HBP_STEPS/STEPS4ModelRelease/rallpack1/None.py': [Errno 2] No such file or directory\n"
     ]
    }
   ],
   "source": [
    "# %%capture\n",
    "\n",
    "### Run postproc\n",
    "\n",
    "model_name = os.environ.get('VAL_MON_MODEL_NAME')\n",
    "file = f\"{model_name}.py\"\n",
    "args =  \"../../raw_traces/STEPS3 ../../raw_traces/STEPS4\"\n",
    "\n",
    "res = !python $file $args\n",
    "print('\\n'.join(res))"
   ]
  },
  {
   "cell_type": "code",
   "execution_count": 4,
   "id": "2a1636ec",
   "metadata": {},
   "outputs": [],
   "source": [
    "%%capture\n",
    "\n",
    "### Display pictures\n",
    "\n",
    "base = f\"{model_name}/pics\"\n",
    "\n",
    "for (root, dirs, files) in os.walk(base, topdown=True):\n",
    "    for file in files:\n",
    "        path = os.path.join(base, file)\n",
    "        display(Markdown(f\"### Picture: {file}\"))\n",
    "        display(Image(filename=path) )"
   ]
  },
  {
   "cell_type": "code",
   "execution_count": null,
   "id": "3519b024",
   "metadata": {},
   "outputs": [],
   "source": []
  }
 ],
 "metadata": {
  "kernelspec": {
   "display_name": "Python 3 (ipykernel)",
   "language": "python",
   "name": "python3"
  },
  "language_info": {
   "codemirror_mode": {
    "name": "ipython",
    "version": 3
   },
   "file_extension": ".py",
   "mimetype": "text/x-python",
   "name": "python",
   "nbconvert_exporter": "python",
   "pygments_lexer": "ipython3",
   "version": "3.9.7"
  }
 },
 "nbformat": 4,
 "nbformat_minor": 5
}
