{
 "cells": [
  {
   "cell_type": "code",
   "execution_count": 1,
   "metadata": {},
   "outputs": [],
   "source": [
    "from IPython.display import Image, Markdown, display\n",
    "import os"
   ]
  },
  {
   "cell_type": "code",
   "execution_count": 10,
   "metadata": {},
   "outputs": [
    {
     "name": "stdout",
     "output_type": "stream",
     "text": [
      "python: can't open file '/gpfs/bbp.cscs.ch/ssd/gitlab_map_jobs/bbpcihpcproj12/J221382/hpc/HBP_STEPS/STEPS4ModelRelease/rallpack1/None.py': [Errno 2] No such file or directory\n"
     ]
    }
   ],
   "source": [
    "### Run postproc\n",
    "\n",
    "model_name = os.environ.get('val_mon_model_name')\n",
    "file = f\"{model_name}.py\"\n",
    "\n",
    "ref_dir = os.environ.get('ref_dir')\n",
    "steps_version = int(os.environviron.get('steps_version'))\n",
    "args =  f\"../../raw_traces/STEPS{steps_version} {ref_dir}\"\n",
    "print(f\"args: {args}\")\n",
    "\n",
    "res = !python $file $args\n",
    "print('\\n'.join(res))"
   ]
  },
  {
   "cell_type": "code",
   "execution_count": 4,
   "metadata": {},
   "outputs": [],
   "source": [
    "### Display pictures\n",
    "\n",
    "base = f\"{model_name}/pics\"\n",
    "\n",
    "for (root, dirs, files) in os.walk(base, topdown=True):\n",
    "    for file in files:\n",
    "        path = os.path.join(base, file)\n",
    "        display(Markdown(f\"### Picture: {file}\"))\n",
    "        display(Image(filename=path) )"
   ]
  },
  {
   "cell_type": "code",
   "execution_count": null,
   "metadata": {},
   "outputs": [],
   "source": []
  }
 ],
 "metadata": {
  "kernelspec": {
   "display_name": "Python 3",
   "language": "python",
   "name": "python3"
  },
  "language_info": {
   "codemirror_mode": {
    "name": "ipython",
    "version": 3
   },
   "file_extension": ".py",
   "mimetype": "text/x-python",
   "name": "python",
   "nbconvert_exporter": "python",
   "pygments_lexer": "ipython3",
   "version": "3.8.10"
  }
 },
 "nbformat": 4,
 "nbformat_minor": 5
}