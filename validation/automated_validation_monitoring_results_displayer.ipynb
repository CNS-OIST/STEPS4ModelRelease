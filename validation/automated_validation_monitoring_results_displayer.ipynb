{
 "cells": [
  {
   "cell_type": "code",
   "execution_count": 1,
   "metadata": {
    "pycharm": {
     "name": "#%%\n"
    }
   },
   "outputs": [],
   "source": [
    "from IPython.display import Image, Markdown, display\n",
    "import os"
   ]
  },
  {
   "cell_type": "code",
   "execution_count": null,
   "metadata": {
    "pycharm": {
     "name": "#%%\n",
     "is_executing": true
    }
   },
   "outputs": [],
   "source": [
    "### Run postproc\n",
    "\n",
    "model_name = os.environ.get('model_name')\n",
    "file = f\"{model_name}.py\"\n",
    "\n",
    "ref_dir = os.environ.get('ref_dir')\n",
    "steps_version = int(os.environ.get('steps_version'))\n",
    "args =  f\"../../raw_traces/STEPS{steps_version} {ref_dir}\"\n",
    "print(f\"args: {args}\")\n",
    "\n",
    "res = !python $file $args\n",
    "print('\\n'.join(res))"
   ]
  },
  {
   "cell_type": "code",
   "execution_count": null,
   "outputs": [],
   "source": [
    "### Display pictures\n",
    "\n",
    "base = f\"{model_name}/pics\"\n",
    "\n",
    "for (root, dirs, files) in os.walk(base, topdown=True):\n",
    "    for file in files:\n",
    "        path = os.path.join(base, file)\n",
    "        display(Markdown(f\"### Picture: {file}\"))\n",
    "        display(Image(filename=path) )"
   ],
   "metadata": {
    "collapsed": false,
    "pycharm": {
     "name": "#%%\n"
    }
   }
  }
 ],
 "metadata": {
  "kernelspec": {
   "display_name": "Python 3",
   "language": "python",
   "name": "python3"
  },
  "language_info": {
   "codemirror_mode": {
    "name": "ipython",
    "version": 3
   },
   "file_extension": ".py",
   "mimetype": "text/x-python",
   "name": "python",
   "nbconvert_exporter": "python",
   "pygments_lexer": "ipython3",
   "version": "3.8.10"
  }
 },
 "nbformat": 4,
 "nbformat_minor": 5
}