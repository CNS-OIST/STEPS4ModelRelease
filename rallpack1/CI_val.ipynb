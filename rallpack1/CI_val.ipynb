{
 "cells": [
  {
   "cell_type": "code",
   "execution_count": null,
   "metadata": {},
   "outputs": [],
   "source": [
    "%%capture\n",
    "# %%capture -> suppresses the output of the cell\n",
    "\n",
    "# change the width of the current notebook\n",
    "from IPython.core.display import display, HTML\n",
    "display(HTML(\"<style>.container { width:100% !important; }</style>\"))"
   ]
  },
  {
   "cell_type": "code",
   "execution_count": null,
   "metadata": {},
   "outputs": [],
   "source": [
    "%%capture\n",
    "%%bash\n",
    "\n",
    "# You can always call env and check the available environment variables\n",
    "\n",
    "# CI has already allocated a job for the runner.\n",
    "# Therefore we take all the relevant info from the already initialized env vars.\n",
    "ACCOUNT_=`sacct --format=account -j $SLURM_JOBID | tail -n1`\n",
    "\n",
    "echo \"ACCOUNT_\" ${ACCOUNT_//[[:blank:]]/}\n",
    "echo \"SLURM_JOB_USER\" $SLURM_JOB_USER\n",
    "echo \"SLURM_JOB_PARTITION\" $SLURM_JOB_PARTITION\n",
    "\n",
    "# *****************************************************************************\n",
    "# Run the simulations and save the data\n",
    "# *****************************************************************************\n",
    "params=\"--account=${ACCOUNT_//[[:blank:]]/} --partition=$SLURM_JOB_PARTITION run.sbatch\"\n",
    "#params=\"--account=proj95 --partition=prod run.sbatch\"\n",
    "export USE_STEPS4=0\n",
    "sbatch --job-name=rallpack1_S3 $params\n",
    "export USE_STEPS4=1\n",
    "sbatch --job-name=rallpack1_S4 $params        "
   ]
  },
  {
   "cell_type": "code",
   "execution_count": 10,
   "metadata": {},
   "outputs": [],
   "source": [
    "import os\n",
    "os.listdir(\".\")\n",
    "\n",
    "currentdir = os.path.abspath(os.path.dirname('.'))\n",
    "analytical_raw_traces_folder = os.path.join(currentdir, \"results\", \"analytical\")\n",
    "STEPS3_raw_traces_folder = os.path.join(currentdir, \"results\", \"STEPS3\")\n",
    "STEPS4_raw_traces_folder = os.path.join(currentdir, \"results\", \"STEPS4\")\n",
    "fig_folder = os.path.join(currentdir, \"results\", \"pics\")\n",
    "\n",
    "# import os, sys\n",
    "# currentdir = os.path.abspath(os.path.dirname('.'))\n",
    "\n",
    "# basedir = os.path.dirname(os.path.dirname(currentdir))\n",
    "# postprocdir = \n",
    "# sys.path.append(os.path.join(basedir, \"STEPS_Validation\", \"postproc\"))\n",
    "\n",
    "# # print(sys.path)\n",
    "# %run -i rallpack1.py 1 \"mesh/axon\" 1\n"
   ]
  },
  {
   "cell_type": "code",
   "execution_count": 13,
   "metadata": {},
   "outputs": [
    {
     "name": "stdout",
     "output_type": "stream",
     "text": [
      "caburst\n",
      "caburst.py\n",
      "postproc\n",
      "__pycache__\n",
      "rallpack1\n",
      "rallpack1.py\n",
      "rallpack3\n",
      "rallpack3.py\n",
      "README.md\n"
     ]
    }
   ],
   "source": [
    "%%bash\n",
    "cd ../../STEPS_Validation/postproc\n",
    "ls"
   ]
  },
  {
   "cell_type": "code",
   "execution_count": 14,
   "metadata": {},
   "outputs": [
    {
     "data": {
      "text/plain": [
       "['CI_val.ipynb',\n",
       " '.ipynb_checkpoints',\n",
       " 'results',\n",
       " 'rallpack1.py',\n",
       " 'README.md',\n",
       " 'mesh',\n",
       " 'run.sbatch',\n",
       " '__pycache__',\n",
       " '.logs']"
      ]
     },
     "execution_count": 14,
     "metadata": {},
     "output_type": "execute_result"
    }
   ],
   "source": [
    "import os\n",
    "os.listdir(\".\")"
   ]
  },
  {
   "cell_type": "code",
   "execution_count": null,
   "metadata": {},
   "outputs": [],
   "source": []
  }
 ],
 "metadata": {
  "kernelspec": {
   "display_name": "Python 3 (ipykernel)",
   "language": "python",
   "name": "python3"
  },
  "language_info": {
   "codemirror_mode": {
    "name": "ipython",
    "version": 3
   },
   "file_extension": ".py",
   "mimetype": "text/x-python",
   "name": "python",
   "nbconvert_exporter": "python",
   "pygments_lexer": "ipython3",
   "version": "3.9.7"
  }
 },
 "nbformat": 4,
 "nbformat_minor": 1
}
