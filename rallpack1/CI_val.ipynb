{
 "cells": [
  {
   "cell_type": "code",
   "execution_count": 1,
   "metadata": {},
   "outputs": [],
   "source": [
    "%%capture\n",
    "# %%capture -> suppresses the output of the cell\n",
    "\n",
    "# change the width of the current notebook\n",
    "from IPython.core.display import display, HTML\n",
    "display(HTML(\"<style>.container { width:100% !important; }</style>\"))"
   ]
  },
  {
   "cell_type": "code",
   "execution_count": 1,
   "metadata": {},
   "outputs": [],
   "source": [
    "%%capture\n",
    "%%bash\n",
    "\n",
    "# You can always call env and check the available environment variables\n",
    "\n",
    "# CI has already allocated a job for the runner.\n",
    "# Therefore we take all the relevant info from the already initialized env vars.\n",
    "ACCOUNT_=`sacct --format=account -j $SLURM_JOBID | tail -n1`\n",
    "\n",
    "echo \"ACCOUNT_\" ${ACCOUNT_//[[:blank:]]/}\n",
    "echo \"SLURM_JOB_USER\" $SLURM_JOB_USER\n",
    "echo \"SLURM_JOB_PARTITION\" $SLURM_JOB_PARTITION\n",
    "\n",
    "# *****************************************************************************\n",
    "# Run the simulations and save the data\n",
    "# *****************************************************************************\n",
    "#params=\"--account=${ACCOUNT_//[[:blank:]]/} --partition=$SLURM_JOB_PARTITION run.sbatch\"\n",
    "params=\"--account=proj95 --partition=prod run.sbatch\"\n",
    "export USE_STEPS4=0\n",
    "sbatch --job-name=rallpack1_S3 $params\n",
    "export USE_STEPS4=1\n",
    "sbatch --job-name=rallpack1_S4 $params        "
   ]
  },
  {
   "cell_type": "code",
   "execution_count": null,
   "metadata": {},
   "outputs": [],
   "source": []
  }
 ],
 "metadata": {
  "kernelspec": {
   "display_name": "Python 3 (ipykernel)",
   "language": "python",
   "name": "python3"
  },
  "language_info": {
   "codemirror_mode": {
    "name": "ipython",
    "version": 3
   },
   "file_extension": ".py",
   "mimetype": "text/x-python",
   "name": "python",
   "nbconvert_exporter": "python",
   "pygments_lexer": "ipython3",
   "version": "3.9.7"
  }
 },
 "nbformat": 4,
 "nbformat_minor": 1
}
